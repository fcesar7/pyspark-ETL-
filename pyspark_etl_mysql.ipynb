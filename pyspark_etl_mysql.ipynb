{
 "cells": [
  {
   "cell_type": "markdown",
   "metadata": {},
   "source": [
    "## Connect to and query MySQL databases and perform ETL tasks"
   ]
  },
  {
   "cell_type": "markdown",
   "metadata": {},
   "source": [
    "This small project shows how to extract and load data to local MySQL databases using spark. It extracts normalized data from database 'world' and transforms it to a One Big Table model, <br> loading it into another MySQL Database <br> \n",
    "<br>\n",
    "Database world is located on [MySQL page](https://dev.mysql.com/doc/index-other.html) <br>\n",
    "For guidance on spark and hadoop installation check [this youtube video](https://www.youtube.com/watch?v=FIXanNPvBXM) <br>\n",
    "A mysql connector need to be downloaded from [here](https://dev.mysql.com/downloads/connector/j/). the .jar file can be copied from the connector folder to spark's jars folders to avoid a common error <br>\n",
    "MySQL user id and password need to be stored as environment variables"
   ]
  },
  {
   "cell_type": "markdown",
   "metadata": {},
   "source": [
    "### Import required libraries"
   ]
  },
  {
   "cell_type": "code",
   "execution_count": 1,
   "metadata": {},
   "outputs": [],
   "source": [
    "from pyspark import SparkContext, SparkConf\n",
    "from pyspark.sql import SparkSession, SQLContext\n",
    "import os\n",
    "import sys\n",
    "from pyspark.sql.functions import *"
   ]
  },
  {
   "cell_type": "markdown",
   "metadata": {},
   "source": [
    "### Test connection to MySQL database"
   ]
  },
  {
   "cell_type": "code",
   "execution_count": 2,
   "metadata": {},
   "outputs": [],
   "source": [
    "conf = SparkConf() \\\n",
    "    .setAppName('ETLPipeline') \\\n",
    "    .setMaster('local') \n",
    "\n",
    "sc = SparkContext.getOrCreate(conf=conf)\n",
    "spark = SparkSession(sc)\n",
    "\n",
    "pwd = os.environ['SQLP']\n",
    "uid = os.environ['SQLU']\n",
    "\n",
    "server = 'localhost'\n",
    "src_db = 'world'\n",
    "target_db = 'world_obt'\n",
    "src_driver = 'com.mysql.cj.jdbc.Driver'\n",
    "target_driver = 'com.mysql.cj.jdbc.Driver'\n",
    "src_url = f\"jdbc:mysql://{server}:3306/{src_db}?user={uid}&password={pwd}&useSSL=false\"\n",
    "target_url = f\"jdbc:mysql://{server}:3306/{src_db}?user={uid}&password={pwd}&useSSL=false\"\n",
    "\n",
    "target_table = \"city_language\""
   ]
  },
  {
   "cell_type": "code",
   "execution_count": 3,
   "metadata": {},
   "outputs": [
    {
     "name": "stdout",
     "output_type": "stream",
     "text": [
      "+---------------+\n",
      "|     TABLE_NAME|\n",
      "+---------------+\n",
      "|           city|\n",
      "|        country|\n",
      "|countrylanguage|\n",
      "+---------------+\n",
      "\n"
     ]
    }
   ],
   "source": [
    "sql = \"\"\"\n",
    "SELECT table_name \n",
    "FROM information_schema.tables \n",
    "WHERE table_schema = DATABASE() \n",
    "AND table_name IN ('city', 'country', 'countrylanguage')\n",
    "\n",
    " \"\"\"\n",
    "\n",
    "# Let's test our connection\n",
    "df_tables=spark.read. \\\n",
    "    format(\"jdbc\"). \\\n",
    "    options(driver=src_driver, user=uid, password=pwd, url=src_url, query=sql). \\\n",
    "    load()\n",
    "df_tables.show()"
   ]
  },
  {
   "cell_type": "code",
   "execution_count": 4,
   "metadata": {},
   "outputs": [],
   "source": [
    "# Function to execute sql queries\n",
    "def execute_sql_query(spark, sql_query, driver, user, password, url,limit=40):\n",
    "    dfs = spark.read.format(\"jdbc\") \\\n",
    "        .options(driver=driver, user=user, password=password, url=url, query=sql_query) \\\n",
    "        .load()\n",
    "    return dfs.show(limit)"
   ]
  },
  {
   "cell_type": "markdown",
   "metadata": {},
   "source": [
    "### Schema Queries"
   ]
  },
  {
   "cell_type": "code",
   "execution_count": 5,
   "metadata": {},
   "outputs": [
    {
     "name": "stdout",
     "output_type": "stream",
     "text": [
      "+-------------+------------+---------------+-----------+------+-------+----------+----------+--------------+-----------+---------------+------------+---------+--------------+-------------------+-------------------+----------+------------------+--------+--------------+-------------+\n",
      "|TABLE_CATALOG|TABLE_SCHEMA|     TABLE_NAME| TABLE_TYPE|ENGINE|VERSION|ROW_FORMAT|TABLE_ROWS|AVG_ROW_LENGTH|DATA_LENGTH|MAX_DATA_LENGTH|INDEX_LENGTH|DATA_FREE|AUTO_INCREMENT|        CREATE_TIME|        UPDATE_TIME|CHECK_TIME|   TABLE_COLLATION|CHECKSUM|CREATE_OPTIONS|TABLE_COMMENT|\n",
      "+-------------+------------+---------------+-----------+------+-------+----------+----------+--------------+-----------+---------------+------------+---------+--------------+-------------------+-------------------+----------+------------------+--------+--------------+-------------+\n",
      "|          def|       world|           city|BASE TABLE |InnoDB|     10|Dynamic   |      4046|           101|     409600|              0|      114688|        0|          4080|2025-03-10 09:38:00|2025-03-10 09:38:01|      NULL|utf8mb4_0900_ai_ci|    NULL|              |             |\n",
      "|          def|       world|        country|BASE TABLE |InnoDB|     10|Dynamic   |       239|           479|     114688|              0|           0|        0|          NULL|2025-03-10 09:38:01|2025-03-10 09:38:01|      NULL|utf8mb4_0900_ai_ci|    NULL|              |             |\n",
      "|          def|       world|countrylanguage|BASE TABLE |InnoDB|     10|Dynamic   |       984|            99|      98304|              0|       65536|        0|          NULL|2025-03-10 09:38:01|2025-03-10 09:38:01|      NULL|utf8mb4_0900_ai_ci|    NULL|              |             |\n",
      "+-------------+------------+---------------+-----------+------+-------+----------+----------+--------------+-----------+---------------+------------+---------+--------------+-------------------+-------------------+----------+------------------+--------+--------------+-------------+\n",
      "\n"
     ]
    }
   ],
   "source": [
    "sql = \"\"\"\n",
    "SELECT * \n",
    "FROM INFORMATION_SCHEMA.TABLES\n",
    "WHERE TABLE_SCHEMA = 'world'\n",
    "\"\"\"\n",
    "\n",
    "execute_sql_query(spark, sql, src_driver, uid, pwd, src_url)"
   ]
  },
  {
   "cell_type": "code",
   "execution_count": 6,
   "metadata": {},
   "outputs": [
    {
     "name": "stdout",
     "output_type": "stream",
     "text": [
      "+-------------+------------+---------------+--------------+----------------+--------------+-----------+---------+------------------------+----------------------+-----------------+-------------+------------------+------------------+------------------+--------------------+----------+--------------+--------------------+--------------+---------------------+------+\n",
      "|TABLE_CATALOG|TABLE_SCHEMA|     TABLE_NAME|   COLUMN_NAME|ORDINAL_POSITION|COLUMN_DEFAULT|IS_NULLABLE|DATA_TYPE|CHARACTER_MAXIMUM_LENGTH|CHARACTER_OCTET_LENGTH|NUMERIC_PRECISION|NUMERIC_SCALE|DATETIME_PRECISION|CHARACTER_SET_NAME|    COLLATION_NAME|         COLUMN_TYPE|COLUMN_KEY|         EXTRA|          PRIVILEGES|COLUMN_COMMENT|GENERATION_EXPRESSION|SRS_ID|\n",
      "+-------------+------------+---------------+--------------+----------------+--------------+-----------+---------+------------------------+----------------------+-----------------+-------------+------------------+------------------+------------------+--------------------+----------+--------------+--------------------+--------------+---------------------+------+\n",
      "|          def|       world|           city|   CountryCode|               3|              |         NO|     char|                       3|                    12|             NULL|         NULL|              NULL|           utf8mb4|utf8mb4_0900_ai_ci|             char(3)|       MUL|              |select,insert,upd...|              |                     |  NULL|\n",
      "|          def|       world|           city|      District|               4|              |         NO|     char|                      20|                    80|             NULL|         NULL|              NULL|           utf8mb4|utf8mb4_0900_ai_ci|            char(20)|          |              |select,insert,upd...|              |                     |  NULL|\n",
      "|          def|       world|           city|            ID|               1|          NULL|         NO|      int|                    NULL|                  NULL|               10|            0|              NULL|              NULL|              NULL|                 int|       PRI|auto_increment|select,insert,upd...|              |                     |  NULL|\n",
      "|          def|       world|           city|          Name|               2|              |         NO|     char|                      35|                   140|             NULL|         NULL|              NULL|           utf8mb4|utf8mb4_0900_ai_ci|            char(35)|          |              |select,insert,upd...|              |                     |  NULL|\n",
      "|          def|       world|           city|    Population|               5|             0|         NO|      int|                    NULL|                  NULL|               10|            0|              NULL|              NULL|              NULL|                 int|          |              |select,insert,upd...|              |                     |  NULL|\n",
      "|          def|       world|        country|       Capital|              14|          NULL|        YES|      int|                    NULL|                  NULL|               10|            0|              NULL|              NULL|              NULL|                 int|          |              |select,insert,upd...|              |                     |  NULL|\n",
      "|          def|       world|        country|          Code|               1|              |         NO|     char|                       3|                    12|             NULL|         NULL|              NULL|           utf8mb4|utf8mb4_0900_ai_ci|             char(3)|       PRI|              |select,insert,upd...|              |                     |  NULL|\n",
      "|          def|       world|        country|         Code2|              15|              |         NO|     char|                       2|                     8|             NULL|         NULL|              NULL|           utf8mb4|utf8mb4_0900_ai_ci|             char(2)|          |              |select,insert,upd...|              |                     |  NULL|\n",
      "|          def|       world|        country|     Continent|               3|          Asia|         NO|     enum|                      13|                    52|             NULL|         NULL|              NULL|           utf8mb4|utf8mb4_0900_ai_ci|enum('Asia','Euro...|          |              |select,insert,upd...|              |                     |  NULL|\n",
      "|          def|       world|        country|           GNP|               9|          NULL|        YES|  decimal|                    NULL|                  NULL|               10|            2|              NULL|              NULL|              NULL|       decimal(10,2)|          |              |select,insert,upd...|              |                     |  NULL|\n",
      "|          def|       world|        country|        GNPOld|              10|          NULL|        YES|  decimal|                    NULL|                  NULL|               10|            2|              NULL|              NULL|              NULL|       decimal(10,2)|          |              |select,insert,upd...|              |                     |  NULL|\n",
      "|          def|       world|        country|GovernmentForm|              12|              |         NO|     char|                      45|                   180|             NULL|         NULL|              NULL|           utf8mb4|utf8mb4_0900_ai_ci|            char(45)|          |              |select,insert,upd...|              |                     |  NULL|\n",
      "|          def|       world|        country|   HeadOfState|              13|          NULL|        YES|     char|                      60|                   240|             NULL|         NULL|              NULL|           utf8mb4|utf8mb4_0900_ai_ci|            char(60)|          |              |select,insert,upd...|              |                     |  NULL|\n",
      "|          def|       world|        country|     IndepYear|               6|          NULL|        YES| smallint|                    NULL|                  NULL|                5|            0|              NULL|              NULL|              NULL|            smallint|          |              |select,insert,upd...|              |                     |  NULL|\n",
      "|          def|       world|        country|LifeExpectancy|               8|          NULL|        YES|  decimal|                    NULL|                  NULL|                3|            1|              NULL|              NULL|              NULL|        decimal(3,1)|          |              |select,insert,upd...|              |                     |  NULL|\n",
      "|          def|       world|        country|     LocalName|              11|              |         NO|     char|                      45|                   180|             NULL|         NULL|              NULL|           utf8mb4|utf8mb4_0900_ai_ci|            char(45)|          |              |select,insert,upd...|              |                     |  NULL|\n",
      "|          def|       world|        country|          Name|               2|              |         NO|     char|                      52|                   208|             NULL|         NULL|              NULL|           utf8mb4|utf8mb4_0900_ai_ci|            char(52)|          |              |select,insert,upd...|              |                     |  NULL|\n",
      "|          def|       world|        country|    Population|               7|             0|         NO|      int|                    NULL|                  NULL|               10|            0|              NULL|              NULL|              NULL|                 int|          |              |select,insert,upd...|              |                     |  NULL|\n",
      "|          def|       world|        country|        Region|               4|              |         NO|     char|                      26|                   104|             NULL|         NULL|              NULL|           utf8mb4|utf8mb4_0900_ai_ci|            char(26)|          |              |select,insert,upd...|              |                     |  NULL|\n",
      "|          def|       world|        country|   SurfaceArea|               5|          0.00|         NO|  decimal|                    NULL|                  NULL|               10|            2|              NULL|              NULL|              NULL|       decimal(10,2)|          |              |select,insert,upd...|              |                     |  NULL|\n",
      "|          def|       world|countrylanguage|   CountryCode|               1|              |         NO|     char|                       3|                    12|             NULL|         NULL|              NULL|           utf8mb4|utf8mb4_0900_ai_ci|             char(3)|       PRI|              |select,insert,upd...|              |                     |  NULL|\n",
      "|          def|       world|countrylanguage|    IsOfficial|               3|             F|         NO|     enum|                       1|                     4|             NULL|         NULL|              NULL|           utf8mb4|utf8mb4_0900_ai_ci|       enum('T','F')|          |              |select,insert,upd...|              |                     |  NULL|\n",
      "|          def|       world|countrylanguage|      Language|               2|              |         NO|     char|                      30|                   120|             NULL|         NULL|              NULL|           utf8mb4|utf8mb4_0900_ai_ci|            char(30)|       PRI|              |select,insert,upd...|              |                     |  NULL|\n",
      "|          def|       world|countrylanguage|    Percentage|               4|           0.0|         NO|  decimal|                    NULL|                  NULL|                4|            1|              NULL|              NULL|              NULL|        decimal(4,1)|          |              |select,insert,upd...|              |                     |  NULL|\n",
      "+-------------+------------+---------------+--------------+----------------+--------------+-----------+---------+------------------------+----------------------+-----------------+-------------+------------------+------------------+------------------+--------------------+----------+--------------+--------------------+--------------+---------------------+------+\n",
      "\n"
     ]
    }
   ],
   "source": [
    "sql = \"\"\"\n",
    "SELECT * \n",
    "FROM INFORMATION_SCHEMA.COLUMNS\n",
    "WHERE TABLE_SCHEMA = 'world'\n",
    "\"\"\"\n",
    "\n",
    "execute_sql_query(spark, sql, src_driver, uid, pwd, src_url)"
   ]
  },
  {
   "cell_type": "markdown",
   "metadata": {},
   "source": [
    "### Other Queries"
   ]
  },
  {
   "cell_type": "code",
   "execution_count": 7,
   "metadata": {},
   "outputs": [
    {
     "name": "stdout",
     "output_type": "stream",
     "text": [
      "+--------+\n",
      "|COUNT(*)|\n",
      "+--------+\n",
      "|     239|\n",
      "+--------+\n",
      "\n"
     ]
    }
   ],
   "source": [
    "sql = \"\"\"\n",
    "SELECT COUNT(*) \n",
    "FROM world.country\n",
    "\"\"\"\n",
    "execute_sql_query(spark, sql, src_driver, uid, pwd, src_url)"
   ]
  },
  {
   "cell_type": "code",
   "execution_count": 8,
   "metadata": {},
   "outputs": [
    {
     "name": "stdout",
     "output_type": "stream",
     "text": [
      "+--------------------+-----------+--------------------+----------+\n",
      "|                Name|CountryCode|             country|Population|\n",
      "+--------------------+-----------+--------------------+----------+\n",
      "|Adamstown        ...|        PCN|Pitcairn         ...|        50|\n",
      "|West Island      ...|        CCK|Cocos (Keeling) I...|       600|\n",
      "|Città del Vatican...|        VAT|Holy See (Vatican...|      1000|\n",
      "|Stanley          ...|        FLK|Falkland Islands ...|      2000|\n",
      "|Kingston         ...|        NFK|Norfolk Island   ...|      2000|\n",
      "|Alofi            ...|        NIU|Niue             ...|      2000|\n",
      "|Fakaofo          ...|        TKL|Tokelau          ...|      2000|\n",
      "|Flying Fish Cove ...|        CXR|Christmas Island ...|      2500|\n",
      "|Longyearbyen     ...|        SJM|Svalbard and Jan ...|      3200|\n",
      "|Jamestown        ...|        SHN|Saint Helena     ...|      6000|\n",
      "|Saint-Pierre     ...|        SPM|Saint Pierre and ...|      7000|\n",
      "|The Valley       ...|        AIA|Anguilla         ...|      8000|\n",
      "|Plymouth         ...|        MSR|Montserrat       ...|     11000|\n",
      "|Yaren            ...|        NRU|Nauru            ...|     12000|\n",
      "|Funafuti         ...|        TUV|Tuvalu           ...|     12000|\n",
      "|Mata-Utu         ...|        WLF|Wallis and Futuna...|     15000|\n",
      "|Cockburn Town    ...|        TCA|Turks and Caicos ...|     17000|\n",
      "|Koror            ...|        PLW|Palau            ...|     19000|\n",
      "|Avarua           ...|        COK|Cook Islands     ...|     20000|\n",
      "|Road Town        ...|        VGB|Virgin Islands, B...|     21000|\n",
      "|Gibraltar        ...|        GIB|Gibraltar        ...|     25000|\n",
      "|San Marino       ...|        SMR|San Marino       ...|     27000|\n",
      "|Vaduz            ...|        LIE|Liechtenstein    ...|     32300|\n",
      "|Monaco-Ville     ...|        MCO|Monaco           ...|     34000|\n",
      "|George Town      ...|        CYM|Cayman Islands   ...|     38000|\n",
      "|Basseterre       ...|        KNA|Saint Kitts and N...|     38000|\n",
      "|Tórshavn         ...|        FRO|Faroe Islands    ...|     43000|\n",
      "|Nuuk             ...|        GRL|Greenland        ...|     56000|\n",
      "|Dalap-Uliga-Darri...|        MHL|Marshall Islands ...|     64000|\n",
      "|Hamilton         ...|        BMU|Bermuda          ...|     65000|\n",
      "|Fagatogo         ...|        ASM|American Samoa   ...|     68000|\n",
      "|Saint John´s     ...|        ATG|Antigua and Barbu...|     68000|\n",
      "|Roseau           ...|        DMA|Dominica         ...|     71000|\n",
      "|Victoria         ...|        SYC|Seychelles       ...|     77000|\n",
      "|Andorra la Vella ...|        AND|Andorra          ...|     78000|\n",
      "|Garapan          ...|        MNP|Northern Mariana ...|     78000|\n",
      "|Bairiki          ...|        KIR|Kiribati         ...|     83000|\n",
      "|Charlotte Amalie ...|        VIR|Virgin Islands, U...|     93000|\n",
      "|Saint George´s   ...|        GRD|Grenada          ...|     94000|\n",
      "|Nuku´alofa       ...|        TON|Tonga            ...|     99000|\n",
      "+--------------------+-----------+--------------------+----------+\n",
      "only showing top 40 rows\n",
      "\n"
     ]
    }
   ],
   "source": [
    "# List of capitals and the respective country and population\n",
    "sql = \"\"\"\n",
    "WITH capital_city_id AS (\n",
    "    SELECT capital as capital_id\n",
    "    FROM country\n",
    ")\n",
    "\n",
    "SELECT c.Name, c.CountryCode, co.Name as country, co.Population\n",
    "FROM city c\n",
    "JOIN capital_city_id cap\n",
    "JOIN country co\n",
    "ON c.ID = co.capital\n",
    "WHERE c.ID = cap.capital_id\n",
    "ORDER BY Population\n",
    "\"\"\"\n",
    "execute_sql_query(spark, sql, src_driver, uid, pwd, src_url)"
   ]
  },
  {
   "cell_type": "code",
   "execution_count": 9,
   "metadata": {},
   "outputs": [
    {
     "name": "stdout",
     "output_type": "stream",
     "text": [
      "+--------------------+-------------+\n",
      "|            language|country count|\n",
      "+--------------------+-------------+\n",
      "|English          ...|           44|\n",
      "|Arabic           ...|           22|\n",
      "|Spanish          ...|           20|\n",
      "|French           ...|           18|\n",
      "|Portuguese       ...|            6|\n",
      "|German           ...|            6|\n",
      "|Dutch            ...|            4|\n",
      "|Italian          ...|            4|\n",
      "|Malay            ...|            4|\n",
      "|Russian          ...|            3|\n",
      "+--------------------+-------------+\n",
      "\n"
     ]
    }
   ],
   "source": [
    "# official languages - group by\n",
    "sql = \"\"\"\n",
    "SELECT language, count(*) as 'country count'\n",
    "FROM world.countrylanguage\n",
    "WHERE IsOfficial = 'T'\n",
    "GROUP BY language\n",
    "ORDER BY 2 DESC\n",
    "LIMIT 10\n",
    "\"\"\"\n",
    "execute_sql_query(spark, sql, src_driver, uid, pwd, src_url)"
   ]
  },
  {
   "cell_type": "code",
   "execution_count": 10,
   "metadata": {},
   "outputs": [
    {
     "name": "stdout",
     "output_type": "stream",
     "text": [
      "+--------------------+---------------------------+-------------+\n",
      "|            language|official_language_countries|language rank|\n",
      "+--------------------+---------------------------+-------------+\n",
      "|English          ...|                         44|            1|\n",
      "|Arabic           ...|                         22|            2|\n",
      "|Spanish          ...|                         20|            3|\n",
      "|French           ...|                         18|            4|\n",
      "|German           ...|                          6|            5|\n",
      "|Portuguese       ...|                          6|            5|\n",
      "|Dutch            ...|                          4|            7|\n",
      "|Malay            ...|                          4|            7|\n",
      "|Italian          ...|                          4|            7|\n",
      "|Serbo-Croatian   ...|                          3|           10|\n",
      "|Russian          ...|                          3|           10|\n",
      "|Danish           ...|                          3|           10|\n",
      "|Samoan           ...|                          2|           13|\n",
      "|Aimará           ...|                          2|           13|\n",
      "|Ketšua           ...|                          2|           13|\n",
      "|Chinese          ...|                          2|           13|\n",
      "|Greek            ...|                          2|           13|\n",
      "|Turkish          ...|                          2|           13|\n",
      "|Swedish          ...|                          2|           13|\n",
      "|Korean           ...|                          2|           13|\n",
      "+--------------------+---------------------------+-------------+\n",
      "\n"
     ]
    }
   ],
   "source": [
    "# official languages - window function + group by\n",
    "sql = \"\"\"\n",
    "SELECT \n",
    "language,\n",
    "COUNT(countrycode) as official_language_countries,\n",
    "Rank() over(order by  COUNT(countrycode) DESC) as 'language rank'\n",
    "FROM countrylanguage \n",
    "where 1=1\n",
    "AND IsOfficial = 'T'\n",
    "group by language\n",
    "LIMIT 20\n",
    "\"\"\"\n",
    "execute_sql_query(spark, sql, src_driver, uid, pwd, src_url)"
   ]
  },
  {
   "cell_type": "markdown",
   "metadata": {},
   "source": [
    "### Database Denormalization: Normalized to One Big Table"
   ]
  },
  {
   "cell_type": "markdown",
   "metadata": {},
   "source": [
    "#### Query to denormalize"
   ]
  },
  {
   "cell_type": "code",
   "execution_count": 11,
   "metadata": {},
   "outputs": [
    {
     "name": "stdout",
     "output_type": "stream",
     "text": [
      "+---+-------------+-------+--------------------+--------------------+--------------------+-----------+-------------------+-------------------+--------------------+---------------+-------------+--------------------+-----------+---------+------------------+--------------+--------+--------------------+--------------------+--------------------+---------------+-------------+\n",
      "| ID|composite_key|city_id|           city_name|            language|        country_name|CountryCode|language_isofficial|language_percentage|       city_district|city_population|    continent|              region|surfacearea|IndepYear|country_population|LifeExpectancy|  GNPOld|  country_local_name|      governmentform|         headofstate|country_capital|countrycode_2|\n",
      "+---+-------------+-------+--------------------+--------------------+--------------------+-----------+-------------------+-------------------+--------------------+---------------+-------------+--------------------+-----------+---------+------------------+--------------+--------+--------------------+--------------------+--------------------+---------------+-------------+\n",
      "|  1|     3-Pashto|      3|Herat            ...|Pashto           ...|Afghanistan      ...|        AFG|                  T|               52.4|Herat               |         186800|Asia         |Southern and Cent...|  652090.00|     1919|          22720000|          45.9|    NULL|Afganistan/Afqane...|Islamic Emirate  ...|Mohammad Omar    ...|              1|           AF|\n",
      "|  2|       3-Dari|      3|Herat            ...|Dari             ...|Afghanistan      ...|        AFG|                  T|               32.1|Herat               |         186800|Asia         |Southern and Cent...|  652090.00|     1919|          22720000|          45.9|    NULL|Afganistan/Afqane...|Islamic Emirate  ...|Mohammad Omar    ...|              1|           AF|\n",
      "|  3|      3-Uzbek|      3|Herat            ...|Uzbek            ...|Afghanistan      ...|        AFG|                  F|                8.8|Herat               |         186800|Asia         |Southern and Cent...|  652090.00|     1919|          22720000|          45.9|    NULL|Afganistan/Afqane...|Islamic Emirate  ...|Mohammad Omar    ...|              1|           AF|\n",
      "|  4| 3-Turkmenian|      3|Herat            ...|Turkmenian       ...|Afghanistan      ...|        AFG|                  F|                1.9|Herat               |         186800|Asia         |Southern and Cent...|  652090.00|     1919|          22720000|          45.9|    NULL|Afganistan/Afqane...|Islamic Emirate  ...|Mohammad Omar    ...|              1|           AF|\n",
      "|  5|    3-Balochi|      3|Herat            ...|Balochi          ...|Afghanistan      ...|        AFG|                  F|                0.9|Herat               |         186800|Asia         |Southern and Cent...|  652090.00|     1919|          22720000|          45.9|    NULL|Afganistan/Afqane...|Islamic Emirate  ...|Mohammad Omar    ...|              1|           AF|\n",
      "|  6|     1-Pashto|      1|Kabul            ...|Pashto           ...|Afghanistan      ...|        AFG|                  T|               52.4|Kabol               |        1780000|Asia         |Southern and Cent...|  652090.00|     1919|          22720000|          45.9|    NULL|Afganistan/Afqane...|Islamic Emirate  ...|Mohammad Omar    ...|              1|           AF|\n",
      "|  7|       1-Dari|      1|Kabul            ...|Dari             ...|Afghanistan      ...|        AFG|                  T|               32.1|Kabol               |        1780000|Asia         |Southern and Cent...|  652090.00|     1919|          22720000|          45.9|    NULL|Afganistan/Afqane...|Islamic Emirate  ...|Mohammad Omar    ...|              1|           AF|\n",
      "|  8|      1-Uzbek|      1|Kabul            ...|Uzbek            ...|Afghanistan      ...|        AFG|                  F|                8.8|Kabol               |        1780000|Asia         |Southern and Cent...|  652090.00|     1919|          22720000|          45.9|    NULL|Afganistan/Afqane...|Islamic Emirate  ...|Mohammad Omar    ...|              1|           AF|\n",
      "|  9| 1-Turkmenian|      1|Kabul            ...|Turkmenian       ...|Afghanistan      ...|        AFG|                  F|                1.9|Kabol               |        1780000|Asia         |Southern and Cent...|  652090.00|     1919|          22720000|          45.9|    NULL|Afganistan/Afqane...|Islamic Emirate  ...|Mohammad Omar    ...|              1|           AF|\n",
      "| 10|    1-Balochi|      1|Kabul            ...|Balochi          ...|Afghanistan      ...|        AFG|                  F|                0.9|Kabol               |        1780000|Asia         |Southern and Cent...|  652090.00|     1919|          22720000|          45.9|    NULL|Afganistan/Afqane...|Islamic Emirate  ...|Mohammad Omar    ...|              1|           AF|\n",
      "| 11|     4-Pashto|      4|Mazar-e-Sharif   ...|Pashto           ...|Afghanistan      ...|        AFG|                  T|               52.4|Balkh               |         127800|Asia         |Southern and Cent...|  652090.00|     1919|          22720000|          45.9|    NULL|Afganistan/Afqane...|Islamic Emirate  ...|Mohammad Omar    ...|              1|           AF|\n",
      "| 12|       4-Dari|      4|Mazar-e-Sharif   ...|Dari             ...|Afghanistan      ...|        AFG|                  T|               32.1|Balkh               |         127800|Asia         |Southern and Cent...|  652090.00|     1919|          22720000|          45.9|    NULL|Afganistan/Afqane...|Islamic Emirate  ...|Mohammad Omar    ...|              1|           AF|\n",
      "| 13|      4-Uzbek|      4|Mazar-e-Sharif   ...|Uzbek            ...|Afghanistan      ...|        AFG|                  F|                8.8|Balkh               |         127800|Asia         |Southern and Cent...|  652090.00|     1919|          22720000|          45.9|    NULL|Afganistan/Afqane...|Islamic Emirate  ...|Mohammad Omar    ...|              1|           AF|\n",
      "| 14| 4-Turkmenian|      4|Mazar-e-Sharif   ...|Turkmenian       ...|Afghanistan      ...|        AFG|                  F|                1.9|Balkh               |         127800|Asia         |Southern and Cent...|  652090.00|     1919|          22720000|          45.9|    NULL|Afganistan/Afqane...|Islamic Emirate  ...|Mohammad Omar    ...|              1|           AF|\n",
      "| 15|    4-Balochi|      4|Mazar-e-Sharif   ...|Balochi          ...|Afghanistan      ...|        AFG|                  F|                0.9|Balkh               |         127800|Asia         |Southern and Cent...|  652090.00|     1919|          22720000|          45.9|    NULL|Afganistan/Afqane...|Islamic Emirate  ...|Mohammad Omar    ...|              1|           AF|\n",
      "| 16|     2-Pashto|      2|Qandahar         ...|Pashto           ...|Afghanistan      ...|        AFG|                  T|               52.4|Qandahar            |         237500|Asia         |Southern and Cent...|  652090.00|     1919|          22720000|          45.9|    NULL|Afganistan/Afqane...|Islamic Emirate  ...|Mohammad Omar    ...|              1|           AF|\n",
      "| 17|       2-Dari|      2|Qandahar         ...|Dari             ...|Afghanistan      ...|        AFG|                  T|               32.1|Qandahar            |         237500|Asia         |Southern and Cent...|  652090.00|     1919|          22720000|          45.9|    NULL|Afganistan/Afqane...|Islamic Emirate  ...|Mohammad Omar    ...|              1|           AF|\n",
      "| 18|      2-Uzbek|      2|Qandahar         ...|Uzbek            ...|Afghanistan      ...|        AFG|                  F|                8.8|Qandahar            |         237500|Asia         |Southern and Cent...|  652090.00|     1919|          22720000|          45.9|    NULL|Afganistan/Afqane...|Islamic Emirate  ...|Mohammad Omar    ...|              1|           AF|\n",
      "| 19| 2-Turkmenian|      2|Qandahar         ...|Turkmenian       ...|Afghanistan      ...|        AFG|                  F|                1.9|Qandahar            |         237500|Asia         |Southern and Cent...|  652090.00|     1919|          22720000|          45.9|    NULL|Afganistan/Afqane...|Islamic Emirate  ...|Mohammad Omar    ...|              1|           AF|\n",
      "| 20|    2-Balochi|      2|Qandahar         ...|Balochi          ...|Afghanistan      ...|        AFG|                  F|                0.9|Qandahar            |         237500|Asia         |Southern and Cent...|  652090.00|     1919|          22720000|          45.9|    NULL|Afganistan/Afqane...|Islamic Emirate  ...|Mohammad Omar    ...|              1|           AF|\n",
      "| 21| 34-Albaniana|     34|Tirana           ...|Albaniana        ...|Albania          ...|        ALB|                  T|               97.9|Tirana              |         270000|Europe       |Southern Europe  ...|   28748.00|     1912|           3401200|          71.6| 2500.00|Shqipëria        ...|Republic         ...|Rexhep Mejdani   ...|             34|           AL|\n",
      "| 22|     34-Greek|     34|Tirana           ...|Greek            ...|Albania          ...|        ALB|                  F|                1.8|Tirana              |         270000|Europe       |Southern Europe  ...|   28748.00|     1912|           3401200|          71.6| 2500.00|Shqipëria        ...|Republic         ...|Rexhep Mejdani   ...|             34|           AL|\n",
      "| 23|34-Macedonian|     34|Tirana           ...|Macedonian       ...|Albania          ...|        ALB|                  F|                0.1|Tirana              |         270000|Europe       |Southern Europe  ...|   28748.00|     1912|           3401200|          71.6| 2500.00|Shqipëria        ...|Republic         ...|Rexhep Mejdani   ...|             34|           AL|\n",
      "| 24|    35-Arabic|     35|Alger            ...|Arabic           ...|Algeria          ...|        DZA|                  T|               86.0|Alger               |        2168000|Africa       |Northern Africa  ...| 2381741.00|     1962|          31471000|          69.7|46966.00|Al-Jaza’ir/Algéri...|Republic         ...|Abdelaziz Boutefl...|             35|           DZ|\n",
      "| 25|   35-Berberi|     35|Alger            ...|Berberi          ...|Algeria          ...|        DZA|                  F|               14.0|Alger               |        2168000|Africa       |Northern Africa  ...| 2381741.00|     1962|          31471000|          69.7|46966.00|Al-Jaza’ir/Algéri...|Republic         ...|Abdelaziz Boutefl...|             35|           DZ|\n",
      "| 26|    38-Arabic|     38|Annaba           ...|Arabic           ...|Algeria          ...|        DZA|                  T|               86.0|Annaba              |         222518|Africa       |Northern Africa  ...| 2381741.00|     1962|          31471000|          69.7|46966.00|Al-Jaza’ir/Algéri...|Republic         ...|Abdelaziz Boutefl...|             35|           DZ|\n",
      "| 27|   38-Berberi|     38|Annaba           ...|Berberi          ...|Algeria          ...|        DZA|                  F|               14.0|Annaba              |         222518|Africa       |Northern Africa  ...| 2381741.00|     1962|          31471000|          69.7|46966.00|Al-Jaza’ir/Algéri...|Republic         ...|Abdelaziz Boutefl...|             35|           DZ|\n",
      "| 28|    39-Arabic|     39|Batna            ...|Arabic           ...|Algeria          ...|        DZA|                  T|               86.0|Batna               |         183377|Africa       |Northern Africa  ...| 2381741.00|     1962|          31471000|          69.7|46966.00|Al-Jaza’ir/Algéri...|Republic         ...|Abdelaziz Boutefl...|             35|           DZ|\n",
      "| 29|   39-Berberi|     39|Batna            ...|Berberi          ...|Algeria          ...|        DZA|                  F|               14.0|Batna               |         183377|Africa       |Northern Africa  ...| 2381741.00|     1962|          31471000|          69.7|46966.00|Al-Jaza’ir/Algéri...|Republic         ...|Abdelaziz Boutefl...|             35|           DZ|\n",
      "| 30|    49-Arabic|     49|Béchar           ...|Arabic           ...|Algeria          ...|        DZA|                  T|               86.0|Béchar              |         107311|Africa       |Northern Africa  ...| 2381741.00|     1962|          31471000|          69.7|46966.00|Al-Jaza’ir/Algéri...|Republic         ...|Abdelaziz Boutefl...|             35|           DZ|\n",
      "| 31|   49-Berberi|     49|Béchar           ...|Berberi          ...|Algeria          ...|        DZA|                  F|               14.0|Béchar              |         107311|Africa       |Northern Africa  ...| 2381741.00|     1962|          31471000|          69.7|46966.00|Al-Jaza’ir/Algéri...|Republic         ...|Abdelaziz Boutefl...|             35|           DZ|\n",
      "| 32|    45-Arabic|     45|Béjaïa           ...|Arabic           ...|Algeria          ...|        DZA|                  T|               86.0|Béjaïa              |         117162|Africa       |Northern Africa  ...| 2381741.00|     1962|          31471000|          69.7|46966.00|Al-Jaza’ir/Algéri...|Republic         ...|Abdelaziz Boutefl...|             35|           DZ|\n",
      "| 33|   45-Berberi|     45|Béjaïa           ...|Berberi          ...|Algeria          ...|        DZA|                  F|               14.0|Béjaïa              |         117162|Africa       |Northern Africa  ...| 2381741.00|     1962|          31471000|          69.7|46966.00|Al-Jaza’ir/Algéri...|Republic         ...|Abdelaziz Boutefl...|             35|           DZ|\n",
      "| 34|    43-Arabic|     43|Biskra           ...|Arabic           ...|Algeria          ...|        DZA|                  T|               86.0|Biskra              |         128281|Africa       |Northern Africa  ...| 2381741.00|     1962|          31471000|          69.7|46966.00|Al-Jaza’ir/Algéri...|Republic         ...|Abdelaziz Boutefl...|             35|           DZ|\n",
      "| 35|   43-Berberi|     43|Biskra           ...|Berberi          ...|Algeria          ...|        DZA|                  F|               14.0|Biskra              |         128281|Africa       |Northern Africa  ...| 2381741.00|     1962|          31471000|          69.7|46966.00|Al-Jaza’ir/Algéri...|Republic         ...|Abdelaziz Boutefl...|             35|           DZ|\n",
      "| 36|    44-Arabic|     44|Blida (el-Boulaid...|Arabic           ...|Algeria          ...|        DZA|                  T|               86.0|Blida               |         127284|Africa       |Northern Africa  ...| 2381741.00|     1962|          31471000|          69.7|46966.00|Al-Jaza’ir/Algéri...|Republic         ...|Abdelaziz Boutefl...|             35|           DZ|\n",
      "| 37|   44-Berberi|     44|Blida (el-Boulaid...|Berberi          ...|Algeria          ...|        DZA|                  F|               14.0|Blida               |         127284|Africa       |Northern Africa  ...| 2381741.00|     1962|          31471000|          69.7|46966.00|Al-Jaza’ir/Algéri...|Republic         ...|Abdelaziz Boutefl...|             35|           DZ|\n",
      "| 38|    37-Arabic|     37|Constantine      ...|Arabic           ...|Algeria          ...|        DZA|                  T|               86.0|Constantine         |         443727|Africa       |Northern Africa  ...| 2381741.00|     1962|          31471000|          69.7|46966.00|Al-Jaza’ir/Algéri...|Republic         ...|Abdelaziz Boutefl...|             35|           DZ|\n",
      "| 39|   37-Berberi|     37|Constantine      ...|Berberi          ...|Algeria          ...|        DZA|                  F|               14.0|Constantine         |         443727|Africa       |Northern Africa  ...| 2381741.00|     1962|          31471000|          69.7|46966.00|Al-Jaza’ir/Algéri...|Republic         ...|Abdelaziz Boutefl...|             35|           DZ|\n",
      "| 40|    51-Arabic|     51|Ech-Chleff (el-As...|Arabic           ...|Algeria          ...|        DZA|                  T|               86.0|Chlef               |          96794|Africa       |Northern Africa  ...| 2381741.00|     1962|          31471000|          69.7|46966.00|Al-Jaza’ir/Algéri...|Republic         ...|Abdelaziz Boutefl...|             35|           DZ|\n",
      "+---+-------------+-------+--------------------+--------------------+--------------------+-----------+-------------------+-------------------+--------------------+---------------+-------------+--------------------+-----------+---------+------------------+--------------+--------+--------------------+--------------------+--------------------+---------------+-------------+\n",
      "only showing top 40 rows\n",
      "\n"
     ]
    }
   ],
   "source": [
    "# we need a composite key to have a primary key. several languages can be spoken in the same city, \n",
    "# so we join the city ID with the languages spoken in that city\n",
    "\n",
    "sql_transform = \"\"\"\n",
    "SELECT\n",
    "    ROW_NUMBER() OVER (ORDER BY co.Name, c.Name, cl.percentage DESC) AS ID,\n",
    "    CONCAT(c.ID, '-', cl.language) AS composite_key,\n",
    "    c.ID as city_id,\n",
    "    c.Name as city_name,\n",
    "    cl.language,\n",
    "    co.Name as country_name,\n",
    "    c.CountryCode,\n",
    "    cl.isofficial as language_isofficial,\n",
    "    cl.percentage as language_percentage,\n",
    "    c.District as city_district,\n",
    "    c.population as city_population,\n",
    "    co.continent,\n",
    "    co.region,\n",
    "    co.surfacearea,\n",
    "    co.IndepYear,\n",
    "    co.population as country_population,\n",
    "    co.LifeExpectancy,\n",
    "    co.GNPOld,\n",
    "    co.localname as country_local_name,\n",
    "    co.governmentform,\n",
    "    co.headofstate,\n",
    "    co.capital as country_capital,\n",
    "    co.code2 as countrycode_2\n",
    "FROM countrylanguage cl\n",
    "JOIN country co\n",
    "ON co.code = cl.countrycode\n",
    "JOIN city c\n",
    "ON c.countrycode = cl.countrycode\n",
    "ORDER BY 1\n",
    "\"\"\"\n",
    "execute_sql_query(spark, sql_transform, src_driver, uid, pwd, src_url)"
   ]
  },
  {
   "cell_type": "markdown",
   "metadata": {},
   "source": [
    "#### Validations"
   ]
  },
  {
   "cell_type": "markdown",
   "metadata": {},
   "source": [
    "##### Check if number of rows is correct (if both count number match)"
   ]
  },
  {
   "cell_type": "code",
   "execution_count": 12,
   "metadata": {},
   "outputs": [
    {
     "name": "stdout",
     "output_type": "stream",
     "text": [
      "+-------------------------------+\n",
      "|sum(combinations_city_language)|\n",
      "+-------------------------------+\n",
      "|                          30670|\n",
      "+-------------------------------+\n",
      "\n"
     ]
    }
   ],
   "source": [
    "sql = \"\"\"\n",
    "with city_language_by_country as (\n",
    "    SELECT c.countrycode, count(distinct c.ID) * count(distinct cl.language) as combinations_city_language\n",
    "    FROM city c\n",
    "    join countrylanguage cl\n",
    "    ON cl.countrycode = c.countrycode\n",
    "    group by countrycode\n",
    ")\n",
    "\n",
    "select sum(combinations_city_language)\n",
    "from city_language_by_country\n",
    "\"\"\"\n",
    "execute_sql_query(spark, sql, src_driver, uid, pwd, src_url)"
   ]
  },
  {
   "cell_type": "code",
   "execution_count": 13,
   "metadata": {},
   "outputs": [
    {
     "name": "stdout",
     "output_type": "stream",
     "text": [
      "+--------+\n",
      "|count(*)|\n",
      "+--------+\n",
      "|   30670|\n",
      "+--------+\n",
      "\n"
     ]
    }
   ],
   "source": [
    "sql = \"\"\"\n",
    "with validation as (\n",
    "    SELECT\n",
    "        ROW_NUMBER() OVER (ORDER BY co.Name, c.Name, cl.language) AS ID,\n",
    "        CONCAT(c.ID, '-', cl.language) AS composite_key,\n",
    "        c.ID as city_id,\n",
    "        c.Name as city_name,\n",
    "        cl.language,\n",
    "        co.Name as country_name,\n",
    "        c.CountryCode,\n",
    "        cl.isofficial as language_isofficial,\n",
    "        cl.percentage as language_percentage,\n",
    "        c.District as city_district,\n",
    "        c.population as city_population,\n",
    "        co.continent,\n",
    "        co.region,\n",
    "        co.surfacearea,\n",
    "        co.IndepYear,\n",
    "        co.population as country_population,\n",
    "        co.LifeExpectancy,\n",
    "        co.GNPOld,\n",
    "        co.localname as country_local_name,\n",
    "        co.governmentform,\n",
    "        co.headofstate,\n",
    "        co.capital as country_capital,\n",
    "        co.code2 as countrycode_2\n",
    "    FROM countrylanguage cl\n",
    "    JOIN country co\n",
    "    ON co.code = cl.countrycode\n",
    "    JOIN city c\n",
    "    ON c.countrycode = cl.countrycode\n",
    "    # ORDER BY city_ID, language_percentage DESC\n",
    "    ORDER BY 1\n",
    ")\n",
    "select count(*)\n",
    "FROM validation\n",
    "\"\"\"\n",
    "execute_sql_query(spark, sql, src_driver, uid, pwd, src_url)"
   ]
  },
  {
   "cell_type": "markdown",
   "metadata": {},
   "source": [
    "##### Check Dulpicates"
   ]
  },
  {
   "cell_type": "markdown",
   "metadata": {},
   "source": [
    "Get a spark dataframe out of the query to check for duplicates"
   ]
  },
  {
   "cell_type": "code",
   "execution_count": 14,
   "metadata": {},
   "outputs": [],
   "source": [
    "df_lang = spark.read.format(\"jdbc\").\\\n",
    "  option(\"url\", src_url).\\\n",
    "  option(\"driver\", \"com.mysql.jdbc.Driver\").\\\n",
    "  option(\"useUnicode\", \"true\").\\\n",
    "  option(\"continueBatchOnError\",\"true\").\\\n",
    "  option(\"useSSL\", \"false\").\\\n",
    "  option(\"user\", uid).\\\n",
    "  option(\"password\", pwd).\\\n",
    "  option(\"query\",sql_transform).\\\n",
    "  load()"
   ]
  },
  {
   "cell_type": "code",
   "execution_count": 15,
   "metadata": {},
   "outputs": [
    {
     "name": "stdout",
     "output_type": "stream",
     "text": [
      "+---+-------------+-------+-----------------------------------+------------------------------+----------------------------------------------------+-----------+-------------------+-------------------+--------------------+---------------+-------------+--------------------------+-----------+---------+------------------+--------------+------+---------------------------------------------+---------------------------------------------+------------------------------------------------------------+---------------+-------------+\n",
      "|ID |composite_key|city_id|city_name                          |language                      |country_name                                        |CountryCode|language_isofficial|language_percentage|city_district       |city_population|continent    |region                    |surfacearea|IndepYear|country_population|LifeExpectancy|GNPOld|country_local_name                           |governmentform                               |headofstate                                                 |country_capital|countrycode_2|\n",
      "+---+-------------+-------+-----------------------------------+------------------------------+----------------------------------------------------+-----------+-------------------+-------------------+--------------------+---------------+-------------+--------------------------+-----------+---------+------------------+--------------+------+---------------------------------------------+---------------------------------------------+------------------------------------------------------------+---------------+-------------+\n",
      "|1  |3-Pashto     |3      |Herat                              |Pashto                        |Afghanistan                                         |AFG        |T                  |52.4               |Herat               |186800         |Asia         |Southern and Central Asia |652090.00  |1919     |22720000          |45.9          |NULL  |Afganistan/Afqanestan                        |Islamic Emirate                              |Mohammad Omar                                               |1              |AF           |\n",
      "|2  |3-Dari       |3      |Herat                              |Dari                          |Afghanistan                                         |AFG        |T                  |32.1               |Herat               |186800         |Asia         |Southern and Central Asia |652090.00  |1919     |22720000          |45.9          |NULL  |Afganistan/Afqanestan                        |Islamic Emirate                              |Mohammad Omar                                               |1              |AF           |\n",
      "|3  |3-Uzbek      |3      |Herat                              |Uzbek                         |Afghanistan                                         |AFG        |F                  |8.8                |Herat               |186800         |Asia         |Southern and Central Asia |652090.00  |1919     |22720000          |45.9          |NULL  |Afganistan/Afqanestan                        |Islamic Emirate                              |Mohammad Omar                                               |1              |AF           |\n",
      "|4  |3-Turkmenian |3      |Herat                              |Turkmenian                    |Afghanistan                                         |AFG        |F                  |1.9                |Herat               |186800         |Asia         |Southern and Central Asia |652090.00  |1919     |22720000          |45.9          |NULL  |Afganistan/Afqanestan                        |Islamic Emirate                              |Mohammad Omar                                               |1              |AF           |\n",
      "|5  |3-Balochi    |3      |Herat                              |Balochi                       |Afghanistan                                         |AFG        |F                  |0.9                |Herat               |186800         |Asia         |Southern and Central Asia |652090.00  |1919     |22720000          |45.9          |NULL  |Afganistan/Afqanestan                        |Islamic Emirate                              |Mohammad Omar                                               |1              |AF           |\n",
      "|6  |1-Pashto     |1      |Kabul                              |Pashto                        |Afghanistan                                         |AFG        |T                  |52.4               |Kabol               |1780000        |Asia         |Southern and Central Asia |652090.00  |1919     |22720000          |45.9          |NULL  |Afganistan/Afqanestan                        |Islamic Emirate                              |Mohammad Omar                                               |1              |AF           |\n",
      "|7  |1-Dari       |1      |Kabul                              |Dari                          |Afghanistan                                         |AFG        |T                  |32.1               |Kabol               |1780000        |Asia         |Southern and Central Asia |652090.00  |1919     |22720000          |45.9          |NULL  |Afganistan/Afqanestan                        |Islamic Emirate                              |Mohammad Omar                                               |1              |AF           |\n",
      "|8  |1-Uzbek      |1      |Kabul                              |Uzbek                         |Afghanistan                                         |AFG        |F                  |8.8                |Kabol               |1780000        |Asia         |Southern and Central Asia |652090.00  |1919     |22720000          |45.9          |NULL  |Afganistan/Afqanestan                        |Islamic Emirate                              |Mohammad Omar                                               |1              |AF           |\n",
      "|9  |1-Turkmenian |1      |Kabul                              |Turkmenian                    |Afghanistan                                         |AFG        |F                  |1.9                |Kabol               |1780000        |Asia         |Southern and Central Asia |652090.00  |1919     |22720000          |45.9          |NULL  |Afganistan/Afqanestan                        |Islamic Emirate                              |Mohammad Omar                                               |1              |AF           |\n",
      "|10 |1-Balochi    |1      |Kabul                              |Balochi                       |Afghanistan                                         |AFG        |F                  |0.9                |Kabol               |1780000        |Asia         |Southern and Central Asia |652090.00  |1919     |22720000          |45.9          |NULL  |Afganistan/Afqanestan                        |Islamic Emirate                              |Mohammad Omar                                               |1              |AF           |\n",
      "+---+-------------+-------+-----------------------------------+------------------------------+----------------------------------------------------+-----------+-------------------+-------------------+--------------------+---------------+-------------+--------------------------+-----------+---------+------------------+--------------+------+---------------------------------------------+---------------------------------------------+------------------------------------------------------------+---------------+-------------+\n",
      "only showing top 10 rows\n",
      "\n"
     ]
    }
   ],
   "source": [
    "df_lang.show(n = 10, truncate=False)"
   ]
  },
  {
   "cell_type": "code",
   "execution_count": 16,
   "metadata": {},
   "outputs": [],
   "source": [
    "column_to_check = \"composite_key\"\n",
    "\n",
    "# Identify duplicate keys\n",
    "duplicate_keys = (\n",
    "    df_lang.groupBy(column_to_check)  \n",
    "    .agg(count(\"*\").alias(\"count\"))\n",
    "    .filter(\"count > 1\")  # Keep only values appearing more than once\n",
    "    .select(column_to_check)  # Keep only the column itself\n",
    ")"
   ]
  },
  {
   "cell_type": "code",
   "execution_count": 17,
   "metadata": {},
   "outputs": [
    {
     "data": {
      "text/plain": [
       "0"
      ]
     },
     "execution_count": 17,
     "metadata": {},
     "output_type": "execute_result"
    }
   ],
   "source": [
    "duplicate_keys.count()"
   ]
  },
  {
   "cell_type": "markdown",
   "metadata": {},
   "source": [
    "##### Check missing countries"
   ]
  },
  {
   "cell_type": "code",
   "execution_count": 18,
   "metadata": {},
   "outputs": [],
   "source": [
    "sql_country1 = \"\"\"\n",
    "select code\n",
    "from country\n",
    "ORDER BY code\n",
    "\"\"\"\n",
    "df_country1 = spark.read.format(\"jdbc\").\\\n",
    "  option(\"url\", src_url).\\\n",
    "  option(\"driver\", \"com.mysql.jdbc.Driver\").\\\n",
    "  option(\"useUnicode\", \"true\").\\\n",
    "  option(\"continueBatchOnError\",\"true\").\\\n",
    "  option(\"useSSL\", \"false\").\\\n",
    "  option(\"user\", uid).\\\n",
    "  option(\"password\", pwd).\\\n",
    "  option(\"query\",sql_country1).\\\n",
    "  load()"
   ]
  },
  {
   "cell_type": "code",
   "execution_count": 19,
   "metadata": {},
   "outputs": [],
   "source": [
    "sql_country2 = \"\"\"\n",
    "with validation as (\n",
    "    SELECT\n",
    "        ROW_NUMBER() OVER (ORDER BY co.Name, c.Name, cl.language) AS ID,\n",
    "        CONCAT(c.ID, '-', cl.language) AS composite_key,\n",
    "        c.ID as city_id,\n",
    "        c.Name as city_name,\n",
    "        cl.language,\n",
    "        co.Name as country_name,\n",
    "        c.CountryCode,\n",
    "        cl.isofficial as language_isofficial,\n",
    "        cl.percentage as language_percentage,\n",
    "        c.District as city_district,\n",
    "        c.population as city_population,\n",
    "        co.continent,\n",
    "        co.region,\n",
    "        co.surfacearea,\n",
    "        co.IndepYear,\n",
    "        co.population as country_population,\n",
    "        co.LifeExpectancy,\n",
    "        co.GNPOld,\n",
    "        co.localname as country_local_name,\n",
    "        co.governmentform,\n",
    "        co.headofstate,\n",
    "        co.capital as country_capital,\n",
    "        co.code2 as countrycode_2\n",
    "    FROM countrylanguage cl\n",
    "    JOIN country co\n",
    "    ON co.code = cl.countrycode\n",
    "    JOIN city c\n",
    "    ON c.countrycode = cl.countrycode\n",
    "    # ORDER BY city_ID, language_percentage DESC\n",
    "    ORDER BY 1\n",
    ")\n",
    "\n",
    "\n",
    "select distinct countrycode as code\n",
    "from validation\n",
    "ORDER BY countrycode\n",
    "\"\"\"\n",
    "df_country2 = spark.read.format(\"jdbc\").\\\n",
    "  option(\"url\", src_url).\\\n",
    "  option(\"driver\", \"com.mysql.jdbc.Driver\").\\\n",
    "  option(\"useUnicode\", \"true\").\\\n",
    "  option(\"continueBatchOnError\",\"true\").\\\n",
    "  option(\"useSSL\", \"false\").\\\n",
    "  option(\"user\", uid).\\\n",
    "  option(\"password\", pwd).\\\n",
    "  option(\"query\",sql_country2).\\\n",
    "  load()"
   ]
  },
  {
   "cell_type": "code",
   "execution_count": 20,
   "metadata": {},
   "outputs": [
    {
     "data": {
      "text/plain": [
       "(239, 232)"
      ]
     },
     "execution_count": 20,
     "metadata": {},
     "output_type": "execute_result"
    }
   ],
   "source": [
    "df_country1.count(), df_country2.count()"
   ]
  },
  {
   "cell_type": "code",
   "execution_count": 21,
   "metadata": {},
   "outputs": [],
   "source": [
    "df_country_val = df_country1.union(df_country2)"
   ]
  },
  {
   "cell_type": "code",
   "execution_count": 22,
   "metadata": {},
   "outputs": [
    {
     "name": "stdout",
     "output_type": "stream",
     "text": [
      "+----+-----+\n",
      "|code|count|\n",
      "+----+-----+\n",
      "| IOT|    1|\n",
      "| UMI|    1|\n",
      "| ATA|    1|\n",
      "| BVT|    1|\n",
      "| SGS|    1|\n",
      "| HMD|    1|\n",
      "| ATF|    1|\n",
      "+----+-----+\n",
      "\n"
     ]
    }
   ],
   "source": [
    "df_country_val.groupBy('code').count().filter(col(\"count\") < 2).show()"
   ]
  },
  {
   "cell_type": "markdown",
   "metadata": {},
   "source": [
    "we can see the missing territories don't have population, so we will leave them out"
   ]
  },
  {
   "cell_type": "code",
   "execution_count": 23,
   "metadata": {},
   "outputs": [
    {
     "name": "stdout",
     "output_type": "stream",
     "text": [
      "+----+--------------------+-------------+--------------------+-----------+---------+----------+--------------+----+------+--------------------+--------------------+--------------------+-------+-----+\n",
      "|Code|                Name|    Continent|              Region|SurfaceArea|IndepYear|Population|LifeExpectancy| GNP|GNPOld|           LocalName|      GovernmentForm|         HeadOfState|Capital|Code2|\n",
      "+----+--------------------+-------------+--------------------+-----------+---------+----------+--------------+----+------+--------------------+--------------------+--------------------+-------+-----+\n",
      "| ATA|Antarctica       ...|Antarctica   |Antarctica       ...|13120000.00|     NULL|         0|          NULL|0.00|  NULL|–                ...|Co-administrated ...|                 ...|   NULL|   AQ|\n",
      "| ATF|French Southern t...|Antarctica   |Antarctica       ...|    7780.00|     NULL|         0|          NULL|0.00|  NULL|Terres australes ...|Nonmetropolitan T...|Jacques Chirac   ...|   NULL|   TF|\n",
      "| BVT|Bouvet Island    ...|Antarctica   |Antarctica       ...|      59.00|     NULL|         0|          NULL|0.00|  NULL|Bouvetøya        ...|Dependent Territo...|Harald V         ...|   NULL|   BV|\n",
      "| HMD|Heard Island and ...|Antarctica   |Antarctica       ...|     359.00|     NULL|         0|          NULL|0.00|  NULL|Heard and McDonal...|Territory of Aust...|Elisabeth II     ...|   NULL|   HM|\n",
      "| IOT|British Indian Oc...|Africa       |Eastern Africa   ...|      78.00|     NULL|         0|          NULL|0.00|  NULL|British Indian Oc...|Dependent Territo...|Elisabeth II     ...|   NULL|   IO|\n",
      "| SGS|South Georgia and...|Antarctica   |Antarctica       ...|    3903.00|     NULL|         0|          NULL|0.00|  NULL|South Georgia and...|Dependent Territo...|Elisabeth II     ...|   NULL|   GS|\n",
      "| UMI|United States Min...|Oceania      |Micronesia/Caribb...|      16.00|     NULL|         0|          NULL|0.00|  NULL|United States Min...|Dependent Territo...|George W. Bush   ...|   NULL|   UM|\n",
      "+----+--------------------+-------------+--------------------+-----------+---------+----------+--------------+----+------+--------------------+--------------------+--------------------+-------+-----+\n",
      "\n"
     ]
    }
   ],
   "source": [
    "sql = \"\"\"\n",
    "select *\n",
    "from country\n",
    "where code in ('IOT','UMI','ATA','BVT','SGS','HMD','ATF')\n",
    "\"\"\"\n",
    "\n",
    "execute_sql_query(spark, sql, src_driver, uid, pwd, src_url)"
   ]
  },
  {
   "cell_type": "markdown",
   "metadata": {},
   "source": [
    "#### Load result back to Database - ETL Function"
   ]
  },
  {
   "cell_type": "code",
   "execution_count": 24,
   "metadata": {},
   "outputs": [],
   "source": [
    "def ETL(spark, src_driver, target_driver, src_url, target_url, uid, pwd, sql_transform, target_db, target_table):\n",
    "    try:\n",
    "        # Perform the SQL transformation on the source database tables and convert result to spark dataframe\n",
    "        df_transformed = spark.read \\\n",
    "            .format(\"jdbc\") \\\n",
    "            .options(driver=src_driver, user=uid, password=pwd, url=src_url, query=sql_transform) \\\n",
    "            .load()\n",
    "        print(\"Extraction and Transformation successful\")\n",
    "\n",
    "    except Exception as e:\n",
    "        print(f\"Error during extraction/transformation: {e}\")\n",
    "        return        \n",
    "\n",
    "    try:\n",
    "        # Load the transformed data into the MySQL database\n",
    "        df_transformed.write \\\n",
    "            .format(\"jdbc\") \\\n",
    "            .options(\n",
    "                driver=target_driver,\n",
    "                user=uid,\n",
    "                password=pwd,\n",
    "                url=target_url,\n",
    "                dbtable=f\"{target_db}.{target_table}\"\n",
    "            ) \\\n",
    "            .mode(\"overwrite\") \\\n",
    "            .save()\n",
    "        print(f\"Data successfully loaded into {target_db}.{target_table}\")\n",
    "\n",
    "    except Exception as e:\n",
    "        print(f\"Error during loading data: {e}\")\n",
    "        return             "
   ]
  },
  {
   "cell_type": "code",
   "execution_count": 25,
   "metadata": {},
   "outputs": [
    {
     "name": "stdout",
     "output_type": "stream",
     "text": [
      "Extraction and Transformation successful\n",
      "Data successfully loaded into world_obt.city_language\n"
     ]
    }
   ],
   "source": [
    "ETL(spark, src_driver, target_driver, src_url, target_url, uid, pwd, sql_transform, target_db, target_table)"
   ]
  }
 ],
 "metadata": {
  "kernelspec": {
   "display_name": "Python 3",
   "language": "python",
   "name": "python3"
  },
  "language_info": {
   "codemirror_mode": {
    "name": "ipython",
    "version": 3
   },
   "file_extension": ".py",
   "mimetype": "text/x-python",
   "name": "python",
   "nbconvert_exporter": "python",
   "pygments_lexer": "ipython3",
   "version": "3.12.2"
  }
 },
 "nbformat": 4,
 "nbformat_minor": 2
}
